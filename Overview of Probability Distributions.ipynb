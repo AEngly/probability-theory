{
 "cells": [
  {
   "cell_type": "markdown",
   "id": "f1d4d48d",
   "metadata": {},
   "source": [
    "<center> <h1> Overview of Probability Distributions"
   ]
  },
  {
   "cell_type": "markdown",
   "id": "771e0dfe",
   "metadata": {},
   "source": [
    "## Dependencies"
   ]
  },
  {
   "cell_type": "code",
   "execution_count": 50,
   "id": "71cf5288",
   "metadata": {},
   "outputs": [],
   "source": [
    "import sys\n",
    "import os\n",
    "import re\n",
    "import glob\n",
    "import datetime as dt\n",
    "\n",
    "import numpy as np\n",
    "import pandas as pd\n",
    "%matplotlib inline\n",
    "import matplotlib\n",
    "import matplotlib.pyplot as plt\n",
    "from matplotlib.colors import LinearSegmentedColormap\n",
    "import matplotlib as mpl\n",
    "from mosek.fusion import *\n",
    "from notebook.services.config import ConfigManager\n",
    "\n",
    "# Random number libraries\n",
    "import random\n",
    "from scipy.stats import poisson"
   ]
  },
  {
   "cell_type": "markdown",
   "id": "cdf16e70",
   "metadata": {},
   "source": [
    "## Settings"
   ]
  },
  {
   "cell_type": "code",
   "execution_count": 51,
   "id": "10ac9a2b",
   "metadata": {},
   "outputs": [],
   "source": [
    "plt.rcParams['text.usetex'] = True\n",
    "plt.rcParams['mathtext.fontset'] = 'custom'\n",
    "plt.rcParams['mathtext.rm'] = 'Bitstream Vera Sans'\n",
    "plt.rcParams['mathtext.it'] = 'Bitstream Vera Sans:italic'\n",
    "plt.rcParams['mathtext.bf'] = 'Bitstream Vera Sans:bold'\n",
    "def_font_size = 18\n",
    "plt.rcParams.update({'font.size': def_font_size})"
   ]
  },
  {
   "cell_type": "markdown",
   "id": "56197aec",
   "metadata": {},
   "source": [
    "# Discrete Distributions"
   ]
  },
  {
   "cell_type": "markdown",
   "id": "7c66465b",
   "metadata": {},
   "source": [
    "## Bernoulli Distribution"
   ]
  },
  {
   "cell_type": "markdown",
   "id": "a245b2ba",
   "metadata": {},
   "source": [
    "A Bernoulli distribution is a special case of the binomial distribution with $1$ trial. It describes an experiment with 2 possible outcomes."
   ]
  },
  {
   "cell_type": "code",
   "execution_count": 52,
   "id": "b8b33e32",
   "metadata": {},
   "outputs": [],
   "source": [
    "def generateBernoulli(p = 0.5):\n",
    "    draw = random.uniform(0, 1)\n",
    "    if draw < p:\n",
    "        return 1\n",
    "    else:\n",
    "        return 0"
   ]
  },
  {
   "cell_type": "markdown",
   "id": "552f56b5",
   "metadata": {},
   "source": [
    "Then we can generate a sequence of Bernoulli trials."
   ]
  },
  {
   "cell_type": "code",
   "execution_count": 53,
   "id": "a0fd71c0",
   "metadata": {},
   "outputs": [],
   "source": [
    "p = 0.2\n",
    "experiments = [generateBernoulli(p=p) for i in range(1000000)]"
   ]
  },
  {
   "cell_type": "markdown",
   "id": "9030f8f0",
   "metadata": {},
   "source": [
    "Let's derive the moments. "
   ]
  },
  {
   "cell_type": "markdown",
   "id": "b10c153e",
   "metadata": {},
   "source": [
    "\\begin{align}\n",
    "    \\mathbb{E}[X] &= \\sum_{X \\in \\{0, 1\\}} 0 \\cdot (1 - p) + 1 \\cdot p \\\\\n",
    "    &= p \\\\\n",
    "    \\text{Var}[X] &= \\sum_{X \\in \\{0, 1\\}} (x - p)^{2} p(x) \\\\\n",
    "                  &= (0 - p)^{2} (1 - p) + (1 - p)^{2} p \\\\\n",
    "                  &= p^{2} - p^{3} + (1 + p^{2} - 2p)p \\\\\n",
    "                  &= p^{2} - p^{3} + p + p^{3} - 2p^{2} \\\\\n",
    "                  &= p - p^{2} \\\\\n",
    "                  &= p(1 - p)\n",
    "\\end{align}"
   ]
  },
  {
   "cell_type": "markdown",
   "id": "012786b7",
   "metadata": {},
   "source": [
    "Then we check if this matches our experiment."
   ]
  },
  {
   "cell_type": "code",
   "execution_count": 54,
   "id": "e8f5642c",
   "metadata": {},
   "outputs": [
    {
     "name": "stdout",
     "output_type": "stream",
     "text": [
      "p =  0.200015  [0.2]\n",
      "p(1-p) =  0.16000899977499997  [0.16000000000000003]\n"
     ]
    }
   ],
   "source": [
    "print('p = ', np.mean(experiments), f\" [{p}]\")\n",
    "print('p(1-p) = ', np.var(experiments), f\" [{p*(1 - p)}]\")"
   ]
  },
  {
   "cell_type": "markdown",
   "id": "0b19d10d",
   "metadata": {},
   "source": [
    "## Binomial Distribution"
   ]
  },
  {
   "cell_type": "markdown",
   "id": "e500fbbe",
   "metadata": {},
   "source": [
    "The binomial distributions describes the number of successes in $n$ Bernoulli trials, where each trial is determined by the probability of success $p$."
   ]
  },
  {
   "cell_type": "code",
   "execution_count": 55,
   "id": "1d5c953b",
   "metadata": {},
   "outputs": [],
   "source": [
    "n = 50\n",
    "p = 0.4\n",
    "experiments = np.random.binomial(n, p, size=100000)"
   ]
  },
  {
   "cell_type": "markdown",
   "id": "5b21612f",
   "metadata": {},
   "source": [
    "Unsurprisingly, the moments are as follows:\n",
    "\n",
    "\\begin{align}\n",
    "    \\mathbb{E}[X] &= \\sum_{i=1}^{n} \\mathbb{E}[Y_{i}] \\\\\n",
    "                  &= np \\\\\n",
    "    \\text{Var}[X] &= \\sum_{i=1}^{n} \\text{Var}[Y_{i}] \\\\\n",
    "                  &= np(1-p)\n",
    "\\end{align}"
   ]
  },
  {
   "cell_type": "markdown",
   "id": "d40d8621",
   "metadata": {},
   "source": [
    "We check the results."
   ]
  },
  {
   "cell_type": "code",
   "execution_count": 56,
   "id": "d4c247c2",
   "metadata": {},
   "outputs": [
    {
     "name": "stdout",
     "output_type": "stream",
     "text": [
      "np =  19.9853  [20.0]\n",
      "np(1-p) =  11.989263909999998  [12.0]\n"
     ]
    }
   ],
   "source": [
    "print('np = ', np.mean(experiments), f\" [{n*p}]\")\n",
    "print('np(1-p) = ', np.var(experiments), f\" [{n*p*(1 - p)}]\")"
   ]
  },
  {
   "cell_type": "markdown",
   "id": "63984fd5",
   "metadata": {},
   "source": [
    "## Poisson Distribution"
   ]
  },
  {
   "cell_type": "markdown",
   "id": "564ad033",
   "metadata": {},
   "source": [
    "A Poisson distribution models the number of times an event occurs during a fixed time or space interval."
   ]
  },
  {
   "cell_type": "markdown",
   "id": "4e5fc936",
   "metadata": {},
   "source": [
    "Suppose a bus arrives every 15th minute. Consider the a rate $\\lambda = 4$, which means we expect 4 busses in a hour."
   ]
  },
  {
   "cell_type": "code",
   "execution_count": 57,
   "id": "5d5b2f09",
   "metadata": {},
   "outputs": [],
   "source": [
    "lam = 4\n",
    "experiments = np.random.poisson(lam=lam, size=1000)"
   ]
  },
  {
   "cell_type": "code",
   "execution_count": 58,
   "id": "8f9ba219",
   "metadata": {},
   "outputs": [
    {
     "name": "stdout",
     "output_type": "stream",
     "text": [
      "E[X] =  4.07  [4]\n",
      "Var[X] =  4.133100000000001  [4]\n"
     ]
    }
   ],
   "source": [
    "print('E[X] = ', np.mean(experiments), f\" [{lam}]\")\n",
    "print('Var[X] = ', np.var(experiments), f\" [{lam}]\")"
   ]
  },
  {
   "cell_type": "markdown",
   "id": "74addce7",
   "metadata": {},
   "source": [
    "The Poisson distribution has the same mean and variance!"
   ]
  },
  {
   "cell_type": "code",
   "execution_count": 62,
   "id": "6d0f09cd",
   "metadata": {},
   "outputs": [
    {
     "data": {
      "image/png": "[encoded data removed]",
      "text/plain": [
       "<Figure size 864x360 with 2 Axes>"
      ]
     },
     "metadata": {
      "needs_background": "light"
     },
     "output_type": "display_data"
    }
   ],
   "source": [
    "# Parameters for the Poisson distribution\n",
    "lambda_ = 4  # average rate (e.g., 4 buses per hour)\n",
    "k = np.arange(0, 20)  # range of k values (number of buses)\n",
    "\n",
    "# Probability Mass Function (PMF) for the Poisson distribution\n",
    "pmf = poisson.pmf(k, lambda_)\n",
    "\n",
    "# Cumulative Distribution Function (CDF) for the Poisson distribution\n",
    "cdf = poisson.cdf(k, lambda_)\n",
    "\n",
    "# Creating the plots\n",
    "fig, axes = plt.subplots(1, 2, figsize=(12, 5))\n",
    "\n",
    "# Plotting the PMF\n",
    "axes[0].bar(k, pmf, color='blue', alpha=0.7)\n",
    "axes[0].set_title('Poisson Distribution (PMF)')\n",
    "axes[0].set_xlabel('Number of Buses (k)')\n",
    "axes[0].set_ylabel('Probability')\n",
    "\n",
    "# Plotting the CDF\n",
    "axes[1].step(k, cdf, color='red', where='post')\n",
    "axes[1].set_title('Poisson Distribution (CDF)')\n",
    "axes[1].set_xlabel('Number of Buses (k)')\n",
    "axes[1].set_ylabel('Cumulative Probability')\n",
    "\n",
    "# Show the plots\n",
    "plt.tight_layout()\n",
    "plt.show()"
   ]
  },
  {
   "cell_type": "markdown",
   "id": "b6780a87",
   "metadata": {},
   "source": [
    "## Poisson Distribution"
   ]
  },
  {
   "cell_type": "markdown",
   "id": "f94f4317",
   "metadata": {},
   "source": [
    "The Geometric Distribution models the number of trials needed to get the first success in a series of independent Bernoulli trials, each with the same probability of success. It's commonly used in scenarios where you're interested in finding out how many attempts are required to achieve a success."
   ]
  },
  {
   "cell_type": "markdown",
   "id": "b18e35d4",
   "metadata": {},
   "source": [
    "\n",
    "Let's consider a scenario in a game where a player has a 20% chance (probability = 0.20) of winning on any given try. The Geometric Distribution can model the probability of the player winning for the first time on the 1st, 2nd, 3rd try, and so on.\n",
    "\n",
    "Now, let's plot the Probability Mass Function (PMF) and Cumulative Distribution Function (CDF) for this scenario:\n",
    "\n",
    "The PMF will show the probability that the player wins for the first time on the 1st, 2nd, 3rd try, etc.\n",
    "The CDF will show the cumulative probability that the player wins for the first time on or before the 1st, 2nd, 3rd try, etc."
   ]
  },
  {
   "cell_type": "code",
   "execution_count": null,
   "id": "9948beb3",
   "metadata": {},
   "outputs": [],
   "source": []
  }
 ],
 "metadata": {
  "kernelspec": {
   "display_name": "Python 3 (ipykernel)",
   "language": "python",
   "name": "python3"
  },
  "language_info": {
   "codemirror_mode": {
    "name": "ipython",
    "version": 3
   },
   "file_extension": ".py",
   "mimetype": "text/x-python",
   "name": "python",
   "nbconvert_exporter": "python",
   "pygments_lexer": "ipython3",
   "version": "3.9.12"
  }
 },
 "nbformat": 4,
 "nbformat_minor": 5
}
